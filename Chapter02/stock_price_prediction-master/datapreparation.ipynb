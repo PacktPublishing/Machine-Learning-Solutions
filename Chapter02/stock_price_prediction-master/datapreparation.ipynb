{
 "cells": [
  {
   "cell_type": "markdown",
   "metadata": {},
   "source": [
    "# Data Preprocessing"
   ]
  },
  {
   "cell_type": "markdown",
   "metadata": {},
   "source": [
    "### Import dependancies"
   ]
  },
  {
   "cell_type": "code",
   "execution_count": 1,
   "metadata": {
    "collapsed": true
   },
   "outputs": [],
   "source": [
    "import numpy as np\n",
    "import csv,json\n",
    "import pandas as pd"
   ]
  },
  {
   "cell_type": "markdown",
   "metadata": {},
   "source": [
    "## Prepare DJIA training dataset"
   ]
  },
  {
   "cell_type": "code",
   "execution_count": 2,
   "metadata": {
    "collapsed": true
   },
   "outputs": [],
   "source": [
    "# Reading DJIA index prices csv file\n",
    "with open('./data/DJIA_data.csv', 'rb') as csvfile:\n",
    "    spamreader = csv.reader(csvfile, delimiter=',')\n",
    "    # Converting the csv file reader to a lists\n",
    "    data_list = list(spamreader)\n",
    "\n",
    "# Separating header from the data\n",
    "header = data_list[0]\n",
    "data_list = data_list[1:]\n",
    "data_list = np.asarray(data_list)\n",
    "\n",
    "# Selecting date and close value for each day\n",
    "selected_data = data_list[:, [0, 4, 5]]\n",
    "df = pd.DataFrame(data=selected_data[0:,1:],\n",
    "                                index=selected_data[0:,0],\n",
    "                                columns=['close', 'adj close'],\n",
    "                                        dtype='float64')"
   ]
  },
  {
   "cell_type": "code",
   "execution_count": 3,
   "metadata": {},
   "outputs": [
    {
     "data": {
      "text/html": [
       "<div>\n",
       "<style>\n",
       "    .dataframe thead tr:only-child th {\n",
       "        text-align: right;\n",
       "    }\n",
       "\n",
       "    .dataframe thead th {\n",
       "        text-align: left;\n",
       "    }\n",
       "\n",
       "    .dataframe tbody tr th {\n",
       "        vertical-align: top;\n",
       "    }\n",
       "</style>\n",
       "<table border=\"1\" class=\"dataframe\">\n",
       "  <thead>\n",
       "    <tr style=\"text-align: right;\">\n",
       "      <th></th>\n",
       "      <th>close</th>\n",
       "      <th>adj close</th>\n",
       "    </tr>\n",
       "  </thead>\n",
       "  <tbody>\n",
       "    <tr>\n",
       "      <th>2006-12-28</th>\n",
       "      <td>12501.519531</td>\n",
       "      <td>12501.519531</td>\n",
       "    </tr>\n",
       "    <tr>\n",
       "      <th>2006-12-29</th>\n",
       "      <td>12463.150391</td>\n",
       "      <td>12463.150391</td>\n",
       "    </tr>\n",
       "    <tr>\n",
       "      <th>2007-01-03</th>\n",
       "      <td>12474.519531</td>\n",
       "      <td>12474.519531</td>\n",
       "    </tr>\n",
       "    <tr>\n",
       "      <th>2007-01-04</th>\n",
       "      <td>12480.690430</td>\n",
       "      <td>12480.690430</td>\n",
       "    </tr>\n",
       "    <tr>\n",
       "      <th>2007-01-05</th>\n",
       "      <td>12398.009766</td>\n",
       "      <td>12398.009766</td>\n",
       "    </tr>\n",
       "  </tbody>\n",
       "</table>\n",
       "</div>"
      ],
      "text/plain": [
       "                   close     adj close\n",
       "2006-12-28  12501.519531  12501.519531\n",
       "2006-12-29  12463.150391  12463.150391\n",
       "2007-01-03  12474.519531  12474.519531\n",
       "2007-01-04  12480.690430  12480.690430\n",
       "2007-01-05  12398.009766  12398.009766"
      ]
     },
     "execution_count": 3,
     "metadata": {},
     "output_type": "execute_result"
    }
   ],
   "source": [
    "df.head()"
   ]
  },
  {
   "cell_type": "markdown",
   "metadata": {},
   "source": [
    "## Basic Data analysis for DJIA dataset"
   ]
  },
  {
   "cell_type": "code",
   "execution_count": 4,
   "metadata": {},
   "outputs": [
    {
     "data": {
      "text/html": [
       "<div>\n",
       "<style>\n",
       "    .dataframe thead tr:only-child th {\n",
       "        text-align: right;\n",
       "    }\n",
       "\n",
       "    .dataframe thead th {\n",
       "        text-align: left;\n",
       "    }\n",
       "\n",
       "    .dataframe tbody tr th {\n",
       "        vertical-align: top;\n",
       "    }\n",
       "</style>\n",
       "<table border=\"1\" class=\"dataframe\">\n",
       "  <thead>\n",
       "    <tr style=\"text-align: right;\">\n",
       "      <th></th>\n",
       "      <th>close</th>\n",
       "      <th>adj close</th>\n",
       "    </tr>\n",
       "  </thead>\n",
       "  <tbody>\n",
       "    <tr>\n",
       "      <th>2006-12-29</th>\n",
       "      <td>12463.150391</td>\n",
       "      <td>12463.150391</td>\n",
       "    </tr>\n",
       "    <tr>\n",
       "      <th>2006-12-30</th>\n",
       "      <td>NaN</td>\n",
       "      <td>NaN</td>\n",
       "    </tr>\n",
       "    <tr>\n",
       "      <th>2006-12-31</th>\n",
       "      <td>NaN</td>\n",
       "      <td>NaN</td>\n",
       "    </tr>\n",
       "    <tr>\n",
       "      <th>2007-01-01</th>\n",
       "      <td>NaN</td>\n",
       "      <td>NaN</td>\n",
       "    </tr>\n",
       "    <tr>\n",
       "      <th>2007-01-02</th>\n",
       "      <td>NaN</td>\n",
       "      <td>NaN</td>\n",
       "    </tr>\n",
       "  </tbody>\n",
       "</table>\n",
       "</div>"
      ],
      "text/plain": [
       "                   close     adj close\n",
       "2006-12-29  12463.150391  12463.150391\n",
       "2006-12-30           NaN           NaN\n",
       "2006-12-31           NaN           NaN\n",
       "2007-01-01           NaN           NaN\n",
       "2007-01-02           NaN           NaN"
      ]
     },
     "execution_count": 4,
     "metadata": {},
     "output_type": "execute_result"
    }
   ],
   "source": [
    "# copy the data to the new dataframe df1 which is temporary dataframe\n",
    "df1 = df\n",
    "\n",
    "#idx contains all the data value between given date range\n",
    "idx = pd.date_range('12-29-2006', '12-31-2016')\n",
    "\n",
    "# Adding missing dates to the dataframe\n",
    "df1.index = pd.DatetimeIndex(df1.index)\n",
    "df1 = df1.reindex(idx, fill_value=np.NaN)\n",
    "df1.head()"
   ]
  },
  {
   "cell_type": "code",
   "execution_count": 5,
   "metadata": {
    "collapsed": true
   },
   "outputs": [],
   "source": [
    "# Reference for pandas interpolation http://pandas.pydata.org/pandas-docs/stable/missing_data.html\n",
    "\n",
    "interpolated_df = df1.interpolate()\n",
    "#print interpolated_df.count() # gives 3656 count\n",
    "\n",
    "# Removing extra date rows added in data for calculating interpolation\n",
    "interpolated_df = interpolated_df[3:]\n"
   ]
  },
  {
   "cell_type": "code",
   "execution_count": 6,
   "metadata": {},
   "outputs": [
    {
     "data": {
      "text/html": [
       "<div>\n",
       "<style>\n",
       "    .dataframe thead tr:only-child th {\n",
       "        text-align: right;\n",
       "    }\n",
       "\n",
       "    .dataframe thead th {\n",
       "        text-align: left;\n",
       "    }\n",
       "\n",
       "    .dataframe tbody tr th {\n",
       "        vertical-align: top;\n",
       "    }\n",
       "</style>\n",
       "<table border=\"1\" class=\"dataframe\">\n",
       "  <thead>\n",
       "    <tr style=\"text-align: right;\">\n",
       "      <th></th>\n",
       "      <th>close</th>\n",
       "      <th>adj close</th>\n",
       "    </tr>\n",
       "  </thead>\n",
       "  <tbody>\n",
       "    <tr>\n",
       "      <th>2007-01-01</th>\n",
       "      <td>12469.971875</td>\n",
       "      <td>12469.971875</td>\n",
       "    </tr>\n",
       "    <tr>\n",
       "      <th>2007-01-02</th>\n",
       "      <td>12472.245703</td>\n",
       "      <td>12472.245703</td>\n",
       "    </tr>\n",
       "    <tr>\n",
       "      <th>2007-01-03</th>\n",
       "      <td>12474.519531</td>\n",
       "      <td>12474.519531</td>\n",
       "    </tr>\n",
       "    <tr>\n",
       "      <th>2007-01-04</th>\n",
       "      <td>12480.690430</td>\n",
       "      <td>12480.690430</td>\n",
       "    </tr>\n",
       "    <tr>\n",
       "      <th>2007-01-05</th>\n",
       "      <td>12398.009766</td>\n",
       "      <td>12398.009766</td>\n",
       "    </tr>\n",
       "  </tbody>\n",
       "</table>\n",
       "</div>"
      ],
      "text/plain": [
       "                   close     adj close\n",
       "2007-01-01  12469.971875  12469.971875\n",
       "2007-01-02  12472.245703  12472.245703\n",
       "2007-01-03  12474.519531  12474.519531\n",
       "2007-01-04  12480.690430  12480.690430\n",
       "2007-01-05  12398.009766  12398.009766"
      ]
     },
     "execution_count": 6,
     "metadata": {},
     "output_type": "execute_result"
    }
   ],
   "source": [
    "interpolated_df.head()"
   ]
  },
  {
   "cell_type": "markdown",
   "metadata": {},
   "source": [
    "## Preparing NYTimes dataset"
   ]
  },
  {
   "cell_type": "code",
   "execution_count": 7,
   "metadata": {
    "collapsed": true
   },
   "outputs": [],
   "source": [
    "# we will convert the date format in YYYY-MM-DD format from the existing date format in json response.\n",
    "date_format = [\"%Y-%m-%dT%H:%M:%SZ\", \"%Y-%m-%dT%H:%M:%S+%f\"]\n",
    "def try_parsing_date(text):\n",
    "    for fmt in date_format:\n",
    "        #return datetime.strptime(text, fmt)\n",
    "        try:\n",
    "            return datetime.strptime(text, fmt).strftime('%Y-%m-%d')\n",
    "        except ValueError:\n",
    "            pass\n",
    "    raise ValueError('no valid date format found')"
   ]
  },
  {
   "cell_type": "code",
   "execution_count": 8,
   "metadata": {
    "collapsed": true
   },
   "outputs": [],
   "source": [
    "years = [2016, 2015, 2014, 2013, 2012, 2011, 2010, 2009, 2008, 2007]\n",
    "months = [1, 2, 3, 4, 5, 6, 7, 8, 9, 10, 11, 12]\n",
    "dict_keys = ['pub_date', 'headline'] #, 'lead_paragraph']\n",
    "articles_dict = dict.fromkeys(dict_keys)\n",
    "\n",
    "# Filtering list for type_of_material\n",
    "type_of_material_list = ['blog', 'brief', 'news', 'editorial', 'op-ed', 'list','analysis']\n",
    "\n",
    "# Filtering list for section_name\n",
    "section_name_list = ['business', 'national', 'world', 'u.s.' , 'politics', 'opinion', 'tech', 'science',  'health']\n",
    "news_desk_list = ['business', 'national', 'world', 'u.s.' , 'politics', 'opinion', 'tech', 'science',  'health', \n",
    "                  'foreign']\n",
    "\n",
    "current_date = '2016-01-01'\n",
    "from datetime import datetime\n",
    "current_article_str = ''"
   ]
  },
  {
   "cell_type": "code",
   "execution_count": 9,
   "metadata": {},
   "outputs": [
    {
     "name": "stdout",
     "output_type": "stream",
     "text": [
      "type error\n",
      "key error\n",
      "type error\n",
      "key error\n",
      "type error\n",
      "type error\n",
      "key error\n",
      "type error\n",
      "type error\n",
      "key error\n",
      "key error\n",
      "key error\n",
      "key error\n",
      "key error\n",
      "key error\n",
      "type error\n",
      "461738\n",
      "1248084\n",
      "16\n",
      "0\n"
     ]
    }
   ],
   "source": [
    "## Adding article column to dataframe\n",
    "interpolated_df[\"articles\"] = ''\n",
    "count_articles_filtered = 0\n",
    "count_total_articles = 0\n",
    "count_main_not_exist = 0\n",
    "count_unicode_error = 0\n",
    "count_attribute_error = 0\n",
    "for year in years:\n",
    "    for month in months:\n",
    "        file_str = './data/nytimes/' + str(year) + '-' + '{:02}'.format(month) + '.json'\n",
    "        with open(file_str) as data_file:\n",
    "            NYTimes_data = json.load(data_file)\n",
    "        count_total_articles = count_total_articles + len(NYTimes_data[\"response\"][\"docs\"][:])\n",
    "        for i in range(len(NYTimes_data[\"response\"][\"docs\"][:])):\n",
    "            try:\n",
    "                if any(substring in NYTimes_data[\"response\"][\"docs\"][:][i]['type_of_material'].lower() \n",
    "                       for substring in type_of_material_list):\n",
    "                    if any(substring in NYTimes_data[\"response\"][\"docs\"][:][i]['section_name'].lower() \n",
    "                           for substring in section_name_list):\n",
    "                        #count += 1\n",
    "                        count_articles_filtered += 1\n",
    "                        #print 'i: ' + str(i)\n",
    "                        articles_dict = { your_key: NYTimes_data[\"response\"][\"docs\"][:][i][your_key] \n",
    "                                         for your_key in dict_keys }\n",
    "                        # Selecting just 'main' from headline\n",
    "                        articles_dict['headline'] = articles_dict['headline']['main'] \n",
    "                        \n",
    "                        # Selecting lead_paragraph\n",
    "                        #articles_dict['headline'] = articles_dict['lead_paragraph'] \n",
    "                        date = try_parsing_date(articles_dict['pub_date'])\n",
    "                        #print 'article_dict: ' + articles_dict['headline']\n",
    "                        if date == current_date:\n",
    "                            current_article_str = current_article_str + '. ' + articles_dict['headline']\n",
    "                        else:\n",
    "                            interpolated_df.set_value(current_date, 'articles', \n",
    "                                                      interpolated_df.loc[current_date,'articles'] \n",
    "                                                      + '. ' + current_article_str)\n",
    "                            current_date = date\n",
    "                            #interpolated_df.set_value(date, 'articles', current_article_str)\n",
    "                            #print str(date) + current_article_str\n",
    "                            current_article_str = articles_dict['headline']\n",
    "                        # For last condition in a year\n",
    "                        if (date == current_date) and (i == len(NYTimes_data[\"response\"][\"docs\"][:]) - 1):\n",
    "                            interpolated_df.set_value(date, 'articles', current_article_str)\n",
    "\n",
    "             #Exception for section_name or type_of_material absent\n",
    "            except AttributeError:\n",
    "                #print 'attribute error'\n",
    "                #print NYTimes_data[\"response\"][\"docs\"][:][i]\n",
    "                count_attribute_error += 1\n",
    "                # If article matches news_desk_list if none section_name found\n",
    "                try:\n",
    "                    if any(substring in NYTimes_data[\"response\"][\"docs\"][:][i]['news_desk'].lower() \n",
    "                           for substring in news_desk_list):\n",
    "                            #count += 1\n",
    "                            count_articles_filtered += 1\n",
    "                            #print 'i: ' + str(i)\n",
    "                            articles_dict = { your_key: NYTimes_data[\"response\"][\"docs\"][:][i][your_key] \n",
    "                                             for your_key in dict_keys }\n",
    "                            # Selecting just 'main' from headline\n",
    "                            articles_dict['headline'] = articles_dict['headline']['main'] \n",
    "                            # Selecting lead_paragraph\n",
    "                            #articles_dict['headline'] = articles_dict['lead_paragraph']\n",
    "                            date = try_parsing_date(articles_dict['pub_date'])\n",
    "                            #print 'article_dict: ' + articles_dict['headline']\n",
    "                            if date == current_date:\n",
    "                                current_article_str = current_article_str + '. ' + articles_dict['headline']\n",
    "                            else:\n",
    "                                interpolated_df.set_value(current_date, 'articles', \n",
    "                                                          interpolated_df.loc[current_date, 'articles']\n",
    "                                                          + '. ' + current_article_str)\n",
    "                                current_date = date\n",
    "                                #interpolated_df.set_value(date, 'articles', current_article_str)\n",
    "                                #print str(date) + current_article_str\n",
    "                                current_article_str = articles_dict['headline']\n",
    "                            # For last condition in a year\n",
    "                            if (date == current_date) and (i == len(NYTimes_data[\"response\"][\"docs\"][:]) - 1):\n",
    "                                interpolated_df.set_value(date, 'articles', current_article_str)\n",
    "\n",
    "                except AttributeError:\n",
    "                    pass\n",
    "                pass\n",
    "            except KeyError:\n",
    "                print 'key error'\n",
    "                #print NYTimes_data[\"response\"][\"docs\"][:][i]\n",
    "                count_main_not_exist += 1\n",
    "                pass\n",
    "            except TypeError:\n",
    "                print \"type error\"\n",
    "                #print NYTimes_data[\"response\"][\"docs\"][:][i]\n",
    "                count_main_not_exist += 1\n",
    "                pass\n",
    "\n",
    "\n",
    "\n",
    "print count_articles_filtered\n",
    "print count_total_articles\n",
    "print count_main_not_exist\n",
    "print count_unicode_error"
   ]
  },
  {
   "cell_type": "code",
   "execution_count": 10,
   "metadata": {},
   "outputs": [
    {
     "name": "stdout",
     "output_type": "stream",
     "text": [
      "type error\n",
      "type error\n",
      "type error\n",
      "type error\n",
      "type error\n",
      "key error\n",
      "type error\n",
      "key error\n",
      "key error\n",
      "type error\n",
      "type error\n",
      "key error\n",
      "key error\n"
     ]
    }
   ],
   "source": [
    "# Putting all articles if no section_name or news_desk not found\n",
    "for date, row in interpolated_df.T.iteritems():\n",
    "    if len(interpolated_df.loc[date, 'articles']) <= 400:\n",
    "        #print interpolated_df.loc[date, 'articles']\n",
    "        #print date\n",
    "        month = date.month\n",
    "        year = date.year\n",
    "        file_str = './data/nytimes/' + str(year) + '-' + '{:02}'.format(month) + '.json'\n",
    "        with open(file_str) as data_file:\n",
    "            NYTimes_data = json.load(data_file)\n",
    "        count_total_articles = count_total_articles + len(NYTimes_data[\"response\"][\"docs\"][:])\n",
    "        interpolated_df.set_value(date.strftime('%Y-%m-%d'), 'articles', '')\n",
    "        for i in range(len(NYTimes_data[\"response\"][\"docs\"][:])):\n",
    "            try:\n",
    "\n",
    "                articles_dict = { your_key: NYTimes_data[\"response\"][\"docs\"][:][i][your_key]\n",
    "                                 for your_key in dict_keys }\n",
    "                articles_dict['headline'] = articles_dict['headline']['main'] # Selecting just 'main' from headline\n",
    "                #articles_dict['headline'] = articles_dict['lead_paragraph'] # Selecting lead_paragraph\n",
    "                pub_date = try_parsing_date(articles_dict['pub_date'])\n",
    "                #print 'article_dict: ' + articles_dict['headline']\n",
    "                if date.strftime('%Y-%m-%d') == pub_date:\n",
    "                    interpolated_df.set_value(pub_date, 'articles', interpolated_df.loc[pub_date, 'articles'] \n",
    "                                              + '. ' + articles_dict['headline'])\n",
    "\n",
    "            except KeyError:\n",
    "                print 'key error'\n",
    "                #print NYTimes_data[\"response\"][\"docs\"][:][i]\n",
    "                #count_main_not_exist += 1\n",
    "                pass\n",
    "            except TypeError:\n",
    "                print \"type error\"\n",
    "                #print NYTimes_data[\"response\"][\"docs\"][:][i]\n",
    "                #count_main_not_exist += 1\n",
    "                pass"
   ]
  },
  {
   "cell_type": "code",
   "execution_count": 11,
   "metadata": {},
   "outputs": [
    {
     "data": {
      "text/html": [
       "<div>\n",
       "<style>\n",
       "    .dataframe thead tr:only-child th {\n",
       "        text-align: right;\n",
       "    }\n",
       "\n",
       "    .dataframe thead th {\n",
       "        text-align: left;\n",
       "    }\n",
       "\n",
       "    .dataframe tbody tr th {\n",
       "        vertical-align: top;\n",
       "    }\n",
       "</style>\n",
       "<table border=\"1\" class=\"dataframe\">\n",
       "  <thead>\n",
       "    <tr style=\"text-align: right;\">\n",
       "      <th></th>\n",
       "      <th>close</th>\n",
       "      <th>adj close</th>\n",
       "      <th>articles</th>\n",
       "    </tr>\n",
       "  </thead>\n",
       "  <tbody>\n",
       "    <tr>\n",
       "      <th>2007-01-01</th>\n",
       "      <td>12469.971875</td>\n",
       "      <td>12469.971875</td>\n",
       "      <td>. Estimates of Iraqi Civilian Deaths. Romania ...</td>\n",
       "    </tr>\n",
       "    <tr>\n",
       "      <th>2007-01-02</th>\n",
       "      <td>12472.245703</td>\n",
       "      <td>12472.245703</td>\n",
       "      <td>. For Dodd, Wall Street Looms Large. Ford's Lo...</td>\n",
       "    </tr>\n",
       "    <tr>\n",
       "      <th>2007-01-03</th>\n",
       "      <td>12474.519531</td>\n",
       "      <td>12474.519531</td>\n",
       "      <td>. Ethics Changes Proposed for House Trips, K S...</td>\n",
       "    </tr>\n",
       "    <tr>\n",
       "      <th>2007-01-04</th>\n",
       "      <td>12480.690430</td>\n",
       "      <td>12480.690430</td>\n",
       "      <td>. I Feel Bad About My Face. Bush Recycles the ...</td>\n",
       "    </tr>\n",
       "    <tr>\n",
       "      <th>2007-01-05</th>\n",
       "      <td>12398.009766</td>\n",
       "      <td>12398.009766</td>\n",
       "      <td>. Macworld Bingo. Anti-Surge Protests Against ...</td>\n",
       "    </tr>\n",
       "  </tbody>\n",
       "</table>\n",
       "</div>"
      ],
      "text/plain": [
       "                   close     adj close  \\\n",
       "2007-01-01  12469.971875  12469.971875   \n",
       "2007-01-02  12472.245703  12472.245703   \n",
       "2007-01-03  12474.519531  12474.519531   \n",
       "2007-01-04  12480.690430  12480.690430   \n",
       "2007-01-05  12398.009766  12398.009766   \n",
       "\n",
       "                                                     articles  \n",
       "2007-01-01  . Estimates of Iraqi Civilian Deaths. Romania ...  \n",
       "2007-01-02  . For Dodd, Wall Street Looms Large. Ford's Lo...  \n",
       "2007-01-03  . Ethics Changes Proposed for House Trips, K S...  \n",
       "2007-01-04  . I Feel Bad About My Face. Bush Recycles the ...  \n",
       "2007-01-05  . Macworld Bingo. Anti-Surge Protests Against ...  "
      ]
     },
     "execution_count": 11,
     "metadata": {},
     "output_type": "execute_result"
    }
   ],
   "source": [
    "interpolated_df.head()"
   ]
  },
  {
   "cell_type": "code",
   "execution_count": 12,
   "metadata": {
    "collapsed": true
   },
   "outputs": [],
   "source": [
    "# Saving the data as pickle file\n",
    "interpolated_df.to_pickle('./data/pickled_ten_year_filtered_lead_para.pkl')  \n",
    "\n",
    "\n",
    "# Save pandas frame in csv form\n",
    "interpolated_df.to_csv('./data/sample_interpolated_df_10_years_filtered_lead_para.csv',\n",
    "                       sep='\\t', encoding='utf-8')\n",
    "\n",
    "\n",
    "\n",
    "# Reading the data as pickle file\n",
    "# dataframe_read = pd.read_pickle('./data/pickled_ten_year_filtered_lead_para.pkl')\n"
   ]
  }
 ],
 "metadata": {
  "kernelspec": {
   "display_name": "Python 2",
   "language": "python",
   "name": "python2"
  },
  "language_info": {
   "codemirror_mode": {
    "name": "ipython",
    "version": 2
   },
   "file_extension": ".py",
   "mimetype": "text/x-python",
   "name": "python",
   "nbconvert_exporter": "python",
   "pygments_lexer": "ipython2",
   "version": "2.7.12"
  }
 },
 "nbformat": 4,
 "nbformat_minor": 2
}
