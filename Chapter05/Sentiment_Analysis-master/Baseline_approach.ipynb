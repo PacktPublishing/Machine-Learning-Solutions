{
 "cells": [
  {
   "cell_type": "markdown",
   "metadata": {},
   "source": [
    "# Sentiment Analysis base line model"
   ]
  },
  {
   "cell_type": "markdown",
   "metadata": {},
   "source": [
    "### Import dependancies"
   ]
  },
  {
   "cell_type": "code",
   "execution_count": 1,
   "metadata": {
    "collapsed": true
   },
   "outputs": [],
   "source": [
    "import os\n",
    "import time\n",
    "\n",
    "from sklearn.feature_extraction.text import TfidfVectorizer\n",
    "from sklearn.naive_bayes import MultinomialNB\n",
    "from sklearn import svm\n",
    "from sklearn.metrics import classification_report\n",
    "from sklearn.metrics import accuracy_score"
   ]
  },
  {
   "cell_type": "markdown",
   "metadata": {},
   "source": [
    "### Build training dataset and testing dataset"
   ]
  },
  {
   "cell_type": "code",
   "execution_count": 2,
   "metadata": {
    "collapsed": true
   },
   "outputs": [],
   "source": [
    "data_dir = \"/home/jalaj/PycharmProjects/Sentiment_Analysis/data\"\n",
    "classes = ['positiveReviews', 'negativeReviews']\n",
    "\n",
    "# Read the data\n",
    "train_data = []\n",
    "train_labels = []\n",
    "test_data = []\n",
    "test_labels = []\n",
    "for curr_class in classes:\n",
    "    dirname = os.path.join(data_dir, curr_class)\n",
    "    for fname in os.listdir(dirname):\n",
    "        with open(os.path.join(dirname, fname), 'r') as f:\n",
    "            content = f.read()\n",
    "            if fname.startswith('12'):\n",
    "                test_data.append(content)\n",
    "                test_labels.append(curr_class)\n",
    "            else:\n",
    "                train_data.append(content)\n",
    "                train_labels.append(curr_class)\n",
    "                \n"
   ]
  },
  {
   "cell_type": "markdown",
   "metadata": {},
   "source": [
    "### Geberate feature vector by using TfidfVectorizer"
   ]
  },
  {
   "cell_type": "code",
   "execution_count": 3,
   "metadata": {
    "collapsed": true
   },
   "outputs": [],
   "source": [
    "# Create feature vectors\n",
    "vectorizer = TfidfVectorizer(min_df=5,\n",
    "                                 max_df = 0.8,\n",
    "                                 sublinear_tf=True,\n",
    "                                 use_idf=True)\n",
    "train_vectors = vectorizer.fit_transform(train_data)\n",
    "test_vectors = vectorizer.transform(test_data)\n"
   ]
  },
  {
   "cell_type": "markdown",
   "metadata": {},
   "source": [
    "### Perfrom training using different ML algos"
   ]
  },
  {
   "cell_type": "code",
   "execution_count": 4,
   "metadata": {
    "collapsed": true
   },
   "outputs": [],
   "source": [
    "# Perform classification with MultinomialNB\n",
    "clf = MultinomialNB()\n",
    "clf.fit(train_vectors, train_labels)\n",
    "prediction = clf.predict(test_vectors)\n",
    "\n",
    "# Perform classification with SVM, kernel=rbf\n",
    "classifier_rbf = svm.SVC()\n",
    "classifier_rbf.fit(train_vectors, train_labels)\n",
    "prediction_rbf = classifier_rbf.predict(test_vectors)\n",
    "    \n",
    "# Perform classification with SVM, kernel=linear\n",
    "classifier_linear = svm.SVC(kernel='linear')\n",
    "classifier_linear.fit(train_vectors, train_labels)\n",
    "prediction_linear = classifier_linear.predict(test_vectors)\n",
    "  \n",
    "# Perform classification with SVM, kernel=linear\n",
    "classifier_liblinear = svm.LinearSVC()\n",
    "classifier_liblinear.fit(train_vectors, train_labels)\n",
    "prediction_liblinear = classifier_liblinear.predict(test_vectors)"
   ]
  },
  {
   "cell_type": "markdown",
   "metadata": {},
   "source": [
    "### Test the result of MultinomialNB"
   ]
  },
  {
   "cell_type": "code",
   "execution_count": 5,
   "metadata": {},
   "outputs": [
    {
     "name": "stdout",
     "output_type": "stream",
     "text": [
      "\n",
      "Results for NaiveBayes (MultinomialNB) \n",
      "                 precision    recall  f1-score   support\n",
      "\n",
      "negativeReviews       0.79      0.87      0.82       611\n",
      "positiveReviews       0.85      0.77      0.81       611\n",
      "\n",
      "    avg / total       0.82      0.82      0.82      1222\n",
      "\n",
      "\n",
      "Accuracy score of Multinomial naive bayes algorithm -----> 0.815875613748\n",
      "\n",
      "\n",
      "\n",
      "\n",
      "Reviews Prediction\n",
      "\n",
      "Predicted label is------> positiveReviews\n",
      "\n",
      "Movie Review is ------> \n",
      "- After their sons are sentenced to life in prison, Adelle (Debbie Reynolds) and Helen (Shirley Winters) begin receiving threatening phone calls because someone fells their sons got off easy. The pair decides to move to California to escape the publicity of the trial and to start a new life. They start a dance school that is soon very successful. One of the students has a rich unmarried father with whom Adelle quickly falls in love. In the meantime, Helen is busy raising rabbits and becoming a little too infatuated with an evangelist on the radio. It's only a mater of time before everything falls apart and the women enter a world of madness and murder.<br /><br />- I can't help but compare What's the Matter with Helen? to Whoever Slew Auntie Roo?, also starring Shelly Winters. Where that movie seemed almost restrained in its presentation of Auntie Roo's madness, there's nothing holding Helen back in this movie. It may take a good deal of the movie's running time, but once she snaps, Helen is one Bad Mad Mutha. You don't want to mess with her. Winters is so delightfully demented that it was impossible for me not to enjoy her performance. I'm not going to spoil the movie, but the things Helen is capable of are totally over-the-top.<br /><br />- As good as Winters is, Reynolds is totally ridiculous in her role as the gold-digging tap dancer. I got the impression that she thought she was in a movie that would get her nominated for some award. This ain't Citizen Kane! Quit acting so serious. Hey, Debbie, don't you realize that you're main purpose is to be a victim of Winters' insanity.<br /><br />- I just love these former-female-stars-in-the-twilight-of-their-career horror movies. What's the Matter with Helen? is as fun as any.\n"
     ]
    }
   ],
   "source": [
    "# Print results in a nice table for MultinomialNB\n",
    "print(\"\\nResults for NaiveBayes (MultinomialNB) \")\n",
    "print(classification_report(test_labels, prediction))\n",
    "print \"\\nAccuracy score of Multinomial naive bayes algorithm -----> \" + str(accuracy_score(test_labels, prediction))\n",
    "\n",
    "\n",
    "print \"\\n\\n\\n\"\n",
    "\n",
    "print \"Reviews Prediction\"\n",
    "print \"\\nPredicted label is------> \"+prediction[10] \n",
    "print \"\\nMovie Review is ------> \\n\"+test_data[10]"
   ]
  },
  {
   "cell_type": "markdown",
   "metadata": {},
   "source": [
    "### Test the result of SVM with rbf kernal"
   ]
  },
  {
   "cell_type": "code",
   "execution_count": 6,
   "metadata": {},
   "outputs": [
    {
     "name": "stdout",
     "output_type": "stream",
     "text": [
      "\n",
      "Results for SVM algorithm with rbf kernel\n",
      "                 precision    recall  f1-score   support\n",
      "\n",
      "negativeReviews       0.98      0.31      0.48       611\n",
      "positiveReviews       0.59      1.00      0.74       611\n",
      "\n",
      "    avg / total       0.79      0.65      0.61      1222\n",
      "\n",
      "\n",
      "Accuracy score of SVM algorithm with rbf kernel-----> 0.654664484452\n",
      "\n",
      "\n",
      "\n",
      "\n",
      "Reviews Prediction\n",
      "\n",
      "Predicted label is------> positiveReviews\n",
      "\n",
      "Movie Review is ------> \n",
      "- After their sons are sentenced to life in prison, Adelle (Debbie Reynolds) and Helen (Shirley Winters) begin receiving threatening phone calls because someone fells their sons got off easy. The pair decides to move to California to escape the publicity of the trial and to start a new life. They start a dance school that is soon very successful. One of the students has a rich unmarried father with whom Adelle quickly falls in love. In the meantime, Helen is busy raising rabbits and becoming a little too infatuated with an evangelist on the radio. It's only a mater of time before everything falls apart and the women enter a world of madness and murder.<br /><br />- I can't help but compare What's the Matter with Helen? to Whoever Slew Auntie Roo?, also starring Shelly Winters. Where that movie seemed almost restrained in its presentation of Auntie Roo's madness, there's nothing holding Helen back in this movie. It may take a good deal of the movie's running time, but once she snaps, Helen is one Bad Mad Mutha. You don't want to mess with her. Winters is so delightfully demented that it was impossible for me not to enjoy her performance. I'm not going to spoil the movie, but the things Helen is capable of are totally over-the-top.<br /><br />- As good as Winters is, Reynolds is totally ridiculous in her role as the gold-digging tap dancer. I got the impression that she thought she was in a movie that would get her nominated for some award. This ain't Citizen Kane! Quit acting so serious. Hey, Debbie, don't you realize that you're main purpose is to be a victim of Winters' insanity.<br /><br />- I just love these former-female-stars-in-the-twilight-of-their-career horror movies. What's the Matter with Helen? is as fun as any.\n"
     ]
    }
   ],
   "source": [
    "# Print results in a nice table for SVM algorithm with rbf kernal\n",
    "print(\"\\nResults for SVM algorithm with rbf kernel\")\n",
    "print(classification_report(test_labels, prediction_rbf))\n",
    "print \"\\nAccuracy score of SVM algorithm with rbf kernel-----> \" + str(accuracy_score(test_labels, prediction_rbf))\n",
    "\n",
    "\n",
    "print \"\\n\\n\\n\"\n",
    "\n",
    "print \"Reviews Prediction\"\n",
    "print \"\\nPredicted label is------> \"+prediction[10] \n",
    "print \"\\nMovie Review is ------> \\n\"+test_data[10]"
   ]
  },
  {
   "cell_type": "markdown",
   "metadata": {},
   "source": [
    "### Test the result of SVM with linear kernal"
   ]
  },
  {
   "cell_type": "code",
   "execution_count": 7,
   "metadata": {},
   "outputs": [
    {
     "name": "stdout",
     "output_type": "stream",
     "text": [
      "\n",
      "Results for SVM algorithm with linear kernel\n",
      "                 precision    recall  f1-score   support\n",
      "\n",
      "negativeReviews       0.82      0.86      0.84       611\n",
      "positiveReviews       0.85      0.81      0.83       611\n",
      "\n",
      "    avg / total       0.84      0.84      0.84      1222\n",
      "\n",
      "\n",
      "Accuracy score of SVM algorithm with linear kernal-----> 0.836333878887\n",
      "\n",
      "\n",
      "\n",
      "\n",
      "Reviews Prediction\n",
      "\n",
      "Predicted label is------> positiveReviews\n",
      "\n",
      "Movie Review is ------> \n",
      "- After their sons are sentenced to life in prison, Adelle (Debbie Reynolds) and Helen (Shirley Winters) begin receiving threatening phone calls because someone fells their sons got off easy. The pair decides to move to California to escape the publicity of the trial and to start a new life. They start a dance school that is soon very successful. One of the students has a rich unmarried father with whom Adelle quickly falls in love. In the meantime, Helen is busy raising rabbits and becoming a little too infatuated with an evangelist on the radio. It's only a mater of time before everything falls apart and the women enter a world of madness and murder.<br /><br />- I can't help but compare What's the Matter with Helen? to Whoever Slew Auntie Roo?, also starring Shelly Winters. Where that movie seemed almost restrained in its presentation of Auntie Roo's madness, there's nothing holding Helen back in this movie. It may take a good deal of the movie's running time, but once she snaps, Helen is one Bad Mad Mutha. You don't want to mess with her. Winters is so delightfully demented that it was impossible for me not to enjoy her performance. I'm not going to spoil the movie, but the things Helen is capable of are totally over-the-top.<br /><br />- As good as Winters is, Reynolds is totally ridiculous in her role as the gold-digging tap dancer. I got the impression that she thought she was in a movie that would get her nominated for some award. This ain't Citizen Kane! Quit acting so serious. Hey, Debbie, don't you realize that you're main purpose is to be a victim of Winters' insanity.<br /><br />- I just love these former-female-stars-in-the-twilight-of-their-career horror movies. What's the Matter with Helen? is as fun as any.\n"
     ]
    }
   ],
   "source": [
    "# Print results in a nice table for SVM algorithm with linear kernal\n",
    "print(\"\\nResults for SVM algorithm with linear kernel\")\n",
    "print(classification_report(test_labels, prediction_linear))\n",
    "print \"\\nAccuracy score of SVM algorithm with linear kernal-----> \" + str(accuracy_score(test_labels, prediction_linear))\n",
    "\n",
    "print \"\\n\\n\\n\"\n",
    "\n",
    "print \"Reviews Prediction\"\n",
    "print \"\\nPredicted label is------> \"+prediction[10] \n",
    "print \"\\nMovie Review is ------> \\n\"+test_data[10]"
   ]
  },
  {
   "cell_type": "markdown",
   "metadata": {},
   "source": [
    "### Test the result of SVM with linearSVC"
   ]
  },
  {
   "cell_type": "code",
   "execution_count": 8,
   "metadata": {},
   "outputs": [
    {
     "name": "stdout",
     "output_type": "stream",
     "text": [
      "\n",
      "Results for SVM algorithm with liblinear kernel\n",
      "                 precision    recall  f1-score   support\n",
      "\n",
      "negativeReviews       0.82      0.86      0.84       611\n",
      "positiveReviews       0.85      0.81      0.83       611\n",
      "\n",
      "    avg / total       0.84      0.84      0.84      1222\n",
      "\n",
      "\n",
      "Accuracy score of SVM algorithm with liblinear kernal-----> 0.836333878887\n",
      "\n",
      "\n",
      "\n",
      "\n",
      "Reviews Prediction\n",
      "\n",
      "Predicted label is------> positiveReviews\n",
      "\n",
      "Movie Review is ------> \n",
      "- After their sons are sentenced to life in prison, Adelle (Debbie Reynolds) and Helen (Shirley Winters) begin receiving threatening phone calls because someone fells their sons got off easy. The pair decides to move to California to escape the publicity of the trial and to start a new life. They start a dance school that is soon very successful. One of the students has a rich unmarried father with whom Adelle quickly falls in love. In the meantime, Helen is busy raising rabbits and becoming a little too infatuated with an evangelist on the radio. It's only a mater of time before everything falls apart and the women enter a world of madness and murder.<br /><br />- I can't help but compare What's the Matter with Helen? to Whoever Slew Auntie Roo?, also starring Shelly Winters. Where that movie seemed almost restrained in its presentation of Auntie Roo's madness, there's nothing holding Helen back in this movie. It may take a good deal of the movie's running time, but once she snaps, Helen is one Bad Mad Mutha. You don't want to mess with her. Winters is so delightfully demented that it was impossible for me not to enjoy her performance. I'm not going to spoil the movie, but the things Helen is capable of are totally over-the-top.<br /><br />- As good as Winters is, Reynolds is totally ridiculous in her role as the gold-digging tap dancer. I got the impression that she thought she was in a movie that would get her nominated for some award. This ain't Citizen Kane! Quit acting so serious. Hey, Debbie, don't you realize that you're main purpose is to be a victim of Winters' insanity.<br /><br />- I just love these former-female-stars-in-the-twilight-of-their-career horror movies. What's the Matter with Helen? is as fun as any.\n"
     ]
    }
   ],
   "source": [
    "# Print results in a nice table for SVM algorithm with liblinear kernal\n",
    "print(\"\\nResults for SVM algorithm with liblinear kernel\")\n",
    "print(classification_report(test_labels, prediction_liblinear))\n",
    "print \"\\nAccuracy score of SVM algorithm with liblinear kernal-----> \" + str(accuracy_score(test_labels, prediction_liblinear))\n",
    "\n",
    "\n",
    "print \"\\n\\n\\n\"\n",
    "\n",
    "print \"Reviews Prediction\"\n",
    "print \"\\nPredicted label is------> \"+prediction[10] \n",
    "print \"\\nMovie Review is ------> \\n\"+test_data[10]"
   ]
  },
  {
   "cell_type": "code",
   "execution_count": null,
   "metadata": {
    "collapsed": true
   },
   "outputs": [],
   "source": []
  }
 ],
 "metadata": {
  "kernelspec": {
   "display_name": "Python 2",
   "language": "python",
   "name": "python2"
  },
  "language_info": {
   "codemirror_mode": {
    "name": "ipython",
    "version": 2
   },
   "file_extension": ".py",
   "mimetype": "text/x-python",
   "name": "python",
   "nbconvert_exporter": "python",
   "pygments_lexer": "ipython2",
   "version": "2.7.12"
  }
 },
 "nbformat": 4,
 "nbformat_minor": 2
}
